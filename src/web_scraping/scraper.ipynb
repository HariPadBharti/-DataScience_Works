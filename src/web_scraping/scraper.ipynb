{
 "cells": [
  {
   "cell_type": "markdown",
   "metadata": {},
   "source": [
    "### Scraping data using Beautiful Soup\n",
    "\n",
    "By: Hari Pad Bharti"
   ]
  },
  {
   "cell_type": "code",
   "execution_count": 205,
   "metadata": {
    "collapsed": true
   },
   "outputs": [],
   "source": [
    "import requests\n",
    "import pandas as pd\n",
    "from bs4 import BeautifulSoup as soup"
   ]
  },
  {
   "cell_type": "code",
   "execution_count": 18,
   "metadata": {},
   "outputs": [
    {
     "data": {
      "text/plain": [
       "200"
      ]
     },
     "execution_count": 18,
     "metadata": {},
     "output_type": "execute_result"
    }
   ],
   "source": [
    "url = \"https://www.ic.gc.ca/app/ccc/sld/cmpny.do?lang=eng&profileId=2059&tag=025015020\"\n",
    "headers = {\"User-Agent\":\"Mozilla/5.0\"}\n",
    "page = requests.get(url, headers =headers)\n",
    "page.status_code"
   ]
  },
  {
   "cell_type": "code",
   "execution_count": 20,
   "metadata": {
    "collapsed": true
   },
   "outputs": [],
   "source": [
    "page_html = (page.content)\n",
    "page_soup = soup(page_html, \"html.parser\")"
   ]
  },
  {
   "cell_type": "markdown",
   "metadata": {},
   "source": [
    "### First Collecting all the results\n",
    "Before start writing functions, we should first find all the answers and then start coding."
   ]
  },
  {
   "cell_type": "code",
   "execution_count": 29,
   "metadata": {},
   "outputs": [
    {
     "name": "stdout",
     "output_type": "stream",
     "text": [
      "193\n"
     ]
    }
   ],
   "source": [
    "size = len(page_soup.find_all('li', attrs = {\"class\": \"mrgn-bttm-sm\"}))\n",
    "print(len(page_soup.find_all('li', attrs = {\"class\": \"mrgn-bttm-sm\"})))"
   ]
  },
  {
   "cell_type": "code",
   "execution_count": 41,
   "metadata": {},
   "outputs": [
    {
     "data": {
      "text/plain": [
       "u'ACE Academe'"
      ]
     },
     "execution_count": 41,
     "metadata": {},
     "output_type": "execute_result"
    }
   ],
   "source": [
    "(page_soup.find_all('li', attrs = {\"class\": \"mrgn-bttm-sm\"}))[0].find_all('a')[0].text"
   ]
  },
  {
   "cell_type": "code",
   "execution_count": 43,
   "metadata": {},
   "outputs": [
    {
     "data": {
      "text/plain": [
       "u'/app/ccc/srch/nvgt.do;jsessionid=0001YvQmSC-8BmlL9waMgg59W8M:8DAUEND69?lang=eng&prtl=1&sbPrtl=&estblmntNo=234567152861&profile=cmpltPrfl&profileId=2059&app=sold&searchNav=F'"
      ]
     },
     "execution_count": 43,
     "metadata": {},
     "output_type": "execute_result"
    }
   ],
   "source": [
    "(page_soup.find_all('li', attrs = {\"class\": \"mrgn-bttm-sm\"}))[0].find_all('a')[0]['href']"
   ]
  },
  {
   "cell_type": "code",
   "execution_count": 55,
   "metadata": {},
   "outputs": [
    {
     "data": {
      "text/plain": [
       "u'http://www.acuere.ca'"
      ]
     },
     "execution_count": 55,
     "metadata": {},
     "output_type": "execute_result"
    }
   ],
   "source": [
    "(page_soup.find_all('li', attrs = {\"class\": \"mrgn-bttm-sm\"}))[1].find_all('a')[1]['href']"
   ]
  },
  {
   "cell_type": "code",
   "execution_count": 166,
   "metadata": {},
   "outputs": [],
   "source": [
    "d = {}\n",
    "for i in range (0,size):\n",
    "    li = []\n",
    "    c_name = (page_soup.find_all('li', attrs = {\"class\": \"mrgn-bttm-sm\"}))[i].find_all('a')[0].text\n",
    "    if len((page_soup.find_all('li', attrs = {\"class\": \"mrgn-bttm-sm\"}))[i].find_all('a')) > 1:\n",
    "        link_ = (page_soup.find_all('li', attrs = {\"class\": \"mrgn-bttm-sm\"}))[i].find_all('a')[0]['href']\n",
    "        web_ = (page_soup.find_all('li', attrs = {\"class\": \"mrgn-bttm-sm\"}))[i].find_all('a')[1]['href']\n",
    "    else:\n",
    "        web_ = ''\n",
    "    li.append(link_)\n",
    "    li.append(web_)\n",
    "    d[c_name] = li\n"
   ]
  },
  {
   "cell_type": "code",
   "execution_count": 201,
   "metadata": {},
   "outputs": [
    {
     "data": {
      "text/html": [
       "<div>\n",
       "<style>\n",
       "    .dataframe thead tr:only-child th {\n",
       "        text-align: right;\n",
       "    }\n",
       "\n",
       "    .dataframe thead th {\n",
       "        text-align: left;\n",
       "    }\n",
       "\n",
       "    .dataframe tbody tr th {\n",
       "        vertical-align: top;\n",
       "    }\n",
       "</style>\n",
       "<table border=\"1\" class=\"dataframe\">\n",
       "  <thead>\n",
       "    <tr style=\"text-align: right;\">\n",
       "      <th></th>\n",
       "      <th>CompanyName</th>\n",
       "      <th>Link</th>\n",
       "      <th>Website</th>\n",
       "    </tr>\n",
       "  </thead>\n",
       "  <tbody>\n",
       "    <tr>\n",
       "      <th>0</th>\n",
       "      <td>Crystal Clear Technology Associates Inc.</td>\n",
       "      <td>/app/ccc/srch/nvgt.do;jsessionid=0001YvQmSC-8B...</td>\n",
       "      <td>http://www.crystalcleartechnology.net</td>\n",
       "    </tr>\n",
       "    <tr>\n",
       "      <th>1</th>\n",
       "      <td>Devron Technologies Inc.</td>\n",
       "      <td>/app/ccc/srch/nvgt.do;jsessionid=0001YvQmSC-8B...</td>\n",
       "      <td>http://www.devron.ca</td>\n",
       "    </tr>\n",
       "    <tr>\n",
       "      <th>2</th>\n",
       "      <td>Lakes Environmental Software</td>\n",
       "      <td>/app/ccc/srch/nvgt.do;jsessionid=0001YvQmSC-8B...</td>\n",
       "      <td>http://www.weblakes.com</td>\n",
       "    </tr>\n",
       "    <tr>\n",
       "      <th>3</th>\n",
       "      <td>Think Profits.com</td>\n",
       "      <td>/app/ccc/srch/nvgt.do;jsessionid=0001YvQmSC-8B...</td>\n",
       "      <td>http://www.thinkprofits.com</td>\n",
       "    </tr>\n",
       "    <tr>\n",
       "      <th>4</th>\n",
       "      <td>CNS Systems</td>\n",
       "      <td>/app/ccc/srch/nvgt.do;jsessionid=0001YvQmSC-8B...</td>\n",
       "      <td>http://www.cns.se</td>\n",
       "    </tr>\n",
       "  </tbody>\n",
       "</table>\n",
       "</div>"
      ],
      "text/plain": [
       "                                CompanyName  \\\n",
       "0  Crystal Clear Technology Associates Inc.   \n",
       "1                  Devron Technologies Inc.   \n",
       "2              Lakes Environmental Software   \n",
       "3                        Think Profits.com    \n",
       "4                               CNS Systems   \n",
       "\n",
       "                                                Link  \\\n",
       "0  /app/ccc/srch/nvgt.do;jsessionid=0001YvQmSC-8B...   \n",
       "1  /app/ccc/srch/nvgt.do;jsessionid=0001YvQmSC-8B...   \n",
       "2  /app/ccc/srch/nvgt.do;jsessionid=0001YvQmSC-8B...   \n",
       "3  /app/ccc/srch/nvgt.do;jsessionid=0001YvQmSC-8B...   \n",
       "4  /app/ccc/srch/nvgt.do;jsessionid=0001YvQmSC-8B...   \n",
       "\n",
       "                                 Website  \n",
       "0  http://www.crystalcleartechnology.net  \n",
       "1                   http://www.devron.ca  \n",
       "2                http://www.weblakes.com  \n",
       "3            http://www.thinkprofits.com  \n",
       "4                      http://www.cns.se  "
      ]
     },
     "execution_count": 201,
     "metadata": {},
     "output_type": "execute_result"
    }
   ],
   "source": [
    "df1 = pd.DataFrame.from_dict(d, orient='index').reset_index()\n",
    "df1.columns = ['CompanyName', 'Link', 'Website']\n",
    "df1.head()"
   ]
  },
  {
   "cell_type": "code",
   "execution_count": 204,
   "metadata": {},
   "outputs": [],
   "source": [
    "df1.to_excel('list_of_companies.xlsx')"
   ]
  },
  {
   "cell_type": "markdown",
   "metadata": {},
   "source": [
    "#### End\n",
    "This is among simplest way to extract data. Thanks for reading."
   ]
  }
 ],
 "metadata": {
  "kernelspec": {
   "display_name": "Python 2",
   "language": "python",
   "name": "python2"
  },
  "language_info": {
   "codemirror_mode": {
    "name": "ipython",
    "version": 2
   },
   "file_extension": ".py",
   "mimetype": "text/x-python",
   "name": "python",
   "nbconvert_exporter": "python",
   "pygments_lexer": "ipython2",
   "version": "2.7.14"
  }
 },
 "nbformat": 4,
 "nbformat_minor": 2
}
